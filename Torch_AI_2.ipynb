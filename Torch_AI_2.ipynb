{
 "cells": [
  {
   "cell_type": "code",
   "execution_count": 2,
   "metadata": {
    "collapsed": true
   },
   "outputs": [],
   "source": [
    "import torch"
   ]
  },
  {
   "cell_type": "code",
   "execution_count": 3,
   "metadata": {
    "collapsed": true
   },
   "outputs": [],
   "source": [
    "# how to perform random sampling of the tensors"
   ]
  },
  {
   "cell_type": "code",
   "execution_count": 4,
   "metadata": {},
   "outputs": [
    {
     "data": {
      "text/plain": [
       "<torch._C.Generator at 0x2852c8a1b30>"
      ]
     },
     "execution_count": 4,
     "metadata": {},
     "output_type": "execute_result"
    }
   ],
   "source": [
    "torch.manual_seed(1234)"
   ]
  },
  {
   "cell_type": "code",
   "execution_count": 5,
   "metadata": {},
   "outputs": [
    {
     "data": {
      "text/plain": [
       "tensor([[-0.1117, -0.4966,  0.1631, -0.8817],\n",
       "        [ 0.0539,  0.6684, -0.0597, -0.4675],\n",
       "        [-0.2153,  0.8840, -0.7584, -0.3689],\n",
       "        [-0.3424, -1.4020,  0.3206, -1.0219]])"
      ]
     },
     "execution_count": 5,
     "metadata": {},
     "output_type": "execute_result"
    }
   ],
   "source": [
    "torch.manual_seed(1234)\n",
    "torch.randn(4,4)"
   ]
  },
  {
   "cell_type": "code",
   "execution_count": 7,
   "metadata": {
    "collapsed": true
   },
   "outputs": [],
   "source": [
    "#generate random numbers from a statistical distribution"
   ]
  },
  {
   "cell_type": "code",
   "execution_count": 8,
   "metadata": {},
   "outputs": [
    {
     "data": {
      "text/plain": [
       "tensor([[0.2837, 0.6567, 0.2388, 0.7313],\n",
       "        [0.6012, 0.3043, 0.2548, 0.6294],\n",
       "        [0.9665, 0.7399, 0.4517, 0.4757],\n",
       "        [0.7842, 0.1525, 0.6662, 0.3343]])"
      ]
     },
     "execution_count": 8,
     "metadata": {},
     "output_type": "execute_result"
    }
   ],
   "source": [
    "torch.Tensor(4, 4).uniform_(0, 1) #random number from uniform distribution"
   ]
  },
  {
   "cell_type": "code",
   "execution_count": 9,
   "metadata": {
    "collapsed": true
   },
   "outputs": [],
   "source": [
    "#now apply the distribution assuming the input values from the \n",
    "#tensor are probabilities"
   ]
  },
  {
   "cell_type": "code",
   "execution_count": 10,
   "metadata": {},
   "outputs": [
    {
     "data": {
      "text/plain": [
       "tensor([[1., 1., 1., 1.],\n",
       "        [0., 0., 0., 0.],\n",
       "        [0., 0., 1., 0.],\n",
       "        [1., 1., 0., 0.]])"
      ]
     },
     "execution_count": 10,
     "metadata": {},
     "output_type": "execute_result"
    }
   ],
   "source": [
    "torch.bernoulli(torch.Tensor(4, 4).uniform_(0, 1))"
   ]
  },
  {
   "cell_type": "code",
   "execution_count": 11,
   "metadata": {
    "collapsed": true
   },
   "outputs": [],
   "source": [
    "#how to perform sampling from a multinomial distribution"
   ]
  },
  {
   "cell_type": "code",
   "execution_count": 12,
   "metadata": {},
   "outputs": [
    {
     "data": {
      "text/plain": [
       "tensor([10., 10., 13., 10., 34., 45., 65., 67., 87., 89., 87., 34.])"
      ]
     },
     "execution_count": 12,
     "metadata": {},
     "output_type": "execute_result"
    }
   ],
   "source": [
    "torch.Tensor([10, 10, 13, 10,34,45,65,67,87,89,87,34])"
   ]
  },
  {
   "cell_type": "code",
   "execution_count": 13,
   "metadata": {},
   "outputs": [
    {
     "data": {
      "text/plain": [
       "tensor([ 8,  7, 11])"
      ]
     },
     "execution_count": 13,
     "metadata": {},
     "output_type": "execute_result"
    }
   ],
   "source": [
    "torch.multinomial(torch.tensor([10., 10., 13., 10., \n",
    "                                34., 45., 65., 67., \n",
    "                                87., 89., 87., 34.]), \n",
    "                  3)"
   ]
  },
  {
   "cell_type": "code",
   "execution_count": 14,
   "metadata": {},
   "outputs": [
    {
     "data": {
      "text/plain": [
       "tensor([ 5, 10,  5,  9, 10])"
      ]
     },
     "execution_count": 14,
     "metadata": {},
     "output_type": "execute_result"
    }
   ],
   "source": [
    "torch.multinomial(torch.tensor([10., 10., 13., 10., \n",
    "                                34., 45., 65., 67., \n",
    "                                87., 89., 87., 34.]), \n",
    "                  5, replacement=True)"
   ]
  },
  {
   "cell_type": "code",
   "execution_count": 15,
   "metadata": {
    "collapsed": true
   },
   "outputs": [],
   "source": [
    "#generate random numbers from the normal distribution"
   ]
  },
  {
   "cell_type": "code",
   "execution_count": 16,
   "metadata": {},
   "outputs": [
    {
     "data": {
      "text/plain": [
       "tensor([1.2111, 2.3034, 3.5310, 4.7278, 6.1060, 6.3294, 6.9060, 7.9908, 9.3492,\n",
       "        9.9928])"
      ]
     },
     "execution_count": 16,
     "metadata": {},
     "output_type": "execute_result"
    }
   ],
   "source": [
    "torch.normal(mean=torch.arange(1., 11.), \n",
    "             std=torch.arange(1, 0, -0.1))"
   ]
  },
  {
   "cell_type": "code",
   "execution_count": 17,
   "metadata": {},
   "outputs": [
    {
     "data": {
      "text/plain": [
       "tensor([-1.1794, -2.9019,  2.4459,  7.5613,  5.9058])"
      ]
     },
     "execution_count": 17,
     "metadata": {},
     "output_type": "execute_result"
    }
   ],
   "source": [
    "torch.normal(mean=0.5, \n",
    "             std=torch.arange(1., 6.))"
   ]
  },
  {
   "cell_type": "code",
   "execution_count": 18,
   "metadata": {},
   "outputs": [
    {
     "data": {
      "text/plain": [
       "tensor([0.7487])"
      ]
     },
     "execution_count": 18,
     "metadata": {},
     "output_type": "execute_result"
    }
   ],
   "source": [
    "torch.normal(mean=0.5, \n",
    "             std=torch.arange(0.2,0.6))"
   ]
  },
  {
   "cell_type": "code",
   "execution_count": 19,
   "metadata": {},
   "outputs": [
    {
     "data": {
      "text/plain": [
       "tensor(45.9167)"
      ]
     },
     "execution_count": 19,
     "metadata": {},
     "output_type": "execute_result"
    }
   ],
   "source": [
    "#computing the descriptive statistics: mean\n",
    "torch.mean(torch.tensor([10., 10., 13., 10., 34., \n",
    "                         45., 65., 67., 87., 89., 87., 34.]))"
   ]
  },
  {
   "cell_type": "code",
   "execution_count": 20,
   "metadata": {},
   "outputs": [
    {
     "data": {
      "text/plain": [
       "tensor([[-0.2632, -0.5432, -1.6406,  0.9295, -1.2777],\n",
       "        [-0.7428,  0.9711,  0.3551,  0.8562, -0.3635],\n",
       "        [-0.1552, -1.2282, -0.8039, -0.4530, -0.2217],\n",
       "        [-2.0901, -1.2658, -1.8761, -0.6066,  0.7470]])"
      ]
     },
     "execution_count": 20,
     "metadata": {},
     "output_type": "execute_result"
    }
   ],
   "source": [
    "# mean across rows and across columns\n",
    "d = torch.randn(4, 5)\n",
    "d"
   ]
  },
  {
   "cell_type": "code",
   "execution_count": 21,
   "metadata": {},
   "outputs": [
    {
     "data": {
      "text/plain": [
       "tensor([-0.8128, -0.5165, -0.9914,  0.1815, -0.2789])"
      ]
     },
     "execution_count": 21,
     "metadata": {},
     "output_type": "execute_result"
    }
   ],
   "source": [
    "torch.mean(d,dim=0)"
   ]
  },
  {
   "cell_type": "code",
   "execution_count": 22,
   "metadata": {},
   "outputs": [
    {
     "data": {
      "text/plain": [
       "tensor([-0.5590,  0.2152, -0.5724, -1.0183])"
      ]
     },
     "execution_count": 22,
     "metadata": {},
     "output_type": "execute_result"
    }
   ],
   "source": [
    "torch.mean(d,dim=1)"
   ]
  },
  {
   "cell_type": "code",
   "execution_count": 23,
   "metadata": {},
   "outputs": [
    {
     "data": {
      "text/plain": [
       "(tensor([-0.7428, -1.2282, -1.6406, -0.4530, -0.3635]),\n",
       " tensor([1, 2, 0, 2, 1]))"
      ]
     },
     "execution_count": 23,
     "metadata": {},
     "output_type": "execute_result"
    }
   ],
   "source": [
    "#compute median\n",
    "torch.median(d,dim=0)"
   ]
  },
  {
   "cell_type": "code",
   "execution_count": 24,
   "metadata": {},
   "outputs": [
    {
     "data": {
      "text/plain": [
       "(tensor([-0.5432,  0.3551, -0.4530, -1.2658]), tensor([1, 2, 3, 1]))"
      ]
     },
     "execution_count": 24,
     "metadata": {},
     "output_type": "execute_result"
    }
   ],
   "source": [
    "torch.median(d,dim=1)"
   ]
  },
  {
   "cell_type": "code",
   "execution_count": 25,
   "metadata": {},
   "outputs": [
    {
     "data": {
      "text/plain": [
       "(tensor([-1.6406, -0.7428, -1.2282, -2.0901]), tensor([2, 0, 1, 0]))"
      ]
     },
     "execution_count": 25,
     "metadata": {},
     "output_type": "execute_result"
    }
   ],
   "source": [
    "# compute the mode\n",
    "torch.mode(d)"
   ]
  },
  {
   "cell_type": "code",
   "execution_count": 26,
   "metadata": {},
   "outputs": [
    {
     "data": {
      "text/plain": [
       "(tensor([-2.0901, -1.2658, -1.8761, -0.6066, -1.2777]),\n",
       " tensor([3, 3, 3, 3, 0]))"
      ]
     },
     "execution_count": 26,
     "metadata": {},
     "output_type": "execute_result"
    }
   ],
   "source": [
    "torch.mode(d,dim=0)"
   ]
  },
  {
   "cell_type": "code",
   "execution_count": 27,
   "metadata": {},
   "outputs": [
    {
     "data": {
      "text/plain": [
       "(tensor([-1.6406, -0.7428, -1.2282, -2.0901]), tensor([2, 0, 1, 0]))"
      ]
     },
     "execution_count": 27,
     "metadata": {},
     "output_type": "execute_result"
    }
   ],
   "source": [
    "torch.mode(d,dim=1)"
   ]
  },
  {
   "cell_type": "code",
   "execution_count": 28,
   "metadata": {},
   "outputs": [
    {
     "data": {
      "text/plain": [
       "tensor(0.9237)"
      ]
     },
     "execution_count": 28,
     "metadata": {},
     "output_type": "execute_result"
    }
   ],
   "source": [
    "#compute the standard deviation\n",
    "torch.std(d)"
   ]
  },
  {
   "cell_type": "code",
   "execution_count": 29,
   "metadata": {},
   "outputs": [
    {
     "data": {
      "text/plain": [
       "tensor([0.8890, 1.0459, 1.0087, 0.8243, 0.8287])"
      ]
     },
     "execution_count": 29,
     "metadata": {},
     "output_type": "execute_result"
    }
   ],
   "source": [
    "torch.std(d,dim=0)"
   ]
  },
  {
   "cell_type": "code",
   "execution_count": 30,
   "metadata": {},
   "outputs": [
    {
     "data": {
      "text/plain": [
       "tensor([0.9987, 0.7507, 0.4458, 1.1436])"
      ]
     },
     "execution_count": 30,
     "metadata": {},
     "output_type": "execute_result"
    }
   ],
   "source": [
    "torch.std(d,dim=1)"
   ]
  },
  {
   "cell_type": "code",
   "execution_count": 31,
   "metadata": {},
   "outputs": [
    {
     "data": {
      "text/plain": [
       "tensor(0.8532)"
      ]
     },
     "execution_count": 31,
     "metadata": {},
     "output_type": "execute_result"
    }
   ],
   "source": [
    "#compute variance\n",
    "torch.var(d)"
   ]
  },
  {
   "cell_type": "code",
   "execution_count": 32,
   "metadata": {},
   "outputs": [
    {
     "data": {
      "text/plain": [
       "tensor([0.7903, 1.0939, 1.0175, 0.6795, 0.6868])"
      ]
     },
     "execution_count": 32,
     "metadata": {},
     "output_type": "execute_result"
    }
   ],
   "source": [
    "torch.var(d,dim=0)"
   ]
  },
  {
   "cell_type": "code",
   "execution_count": 33,
   "metadata": {},
   "outputs": [
    {
     "data": {
      "text/plain": [
       "tensor([0.9974, 0.5636, 0.1987, 1.3079])"
      ]
     },
     "execution_count": 33,
     "metadata": {},
     "output_type": "execute_result"
    }
   ],
   "source": [
    "torch.var(d,dim=1)"
   ]
  },
  {
   "cell_type": "code",
   "execution_count": 34,
   "metadata": {},
   "outputs": [
    {
     "data": {
      "text/plain": [
       "tensor(-2.0901)"
      ]
     },
     "execution_count": 34,
     "metadata": {},
     "output_type": "execute_result"
    }
   ],
   "source": [
    "# compute min and max\n",
    "torch.min(d)"
   ]
  },
  {
   "cell_type": "code",
   "execution_count": 35,
   "metadata": {},
   "outputs": [
    {
     "data": {
      "text/plain": [
       "(tensor([-2.0901, -1.2658, -1.8761, -0.6066, -1.2777]),\n",
       " tensor([3, 3, 3, 3, 0]))"
      ]
     },
     "execution_count": 35,
     "metadata": {},
     "output_type": "execute_result"
    }
   ],
   "source": [
    "torch.min(d,dim=0)"
   ]
  },
  {
   "cell_type": "code",
   "execution_count": 36,
   "metadata": {},
   "outputs": [
    {
     "data": {
      "text/plain": [
       "(tensor([-1.6406, -0.7428, -1.2282, -2.0901]), tensor([2, 0, 1, 0]))"
      ]
     },
     "execution_count": 36,
     "metadata": {},
     "output_type": "execute_result"
    }
   ],
   "source": [
    "torch.min(d,dim=1)"
   ]
  },
  {
   "cell_type": "code",
   "execution_count": 37,
   "metadata": {},
   "outputs": [
    {
     "data": {
      "text/plain": [
       "tensor(0.9711)"
      ]
     },
     "execution_count": 37,
     "metadata": {},
     "output_type": "execute_result"
    }
   ],
   "source": [
    "torch.max(d)"
   ]
  },
  {
   "cell_type": "code",
   "execution_count": 38,
   "metadata": {},
   "outputs": [
    {
     "data": {
      "text/plain": [
       "(tensor([-0.1552,  0.9711,  0.3551,  0.9295,  0.7470]),\n",
       " tensor([2, 1, 1, 0, 3]))"
      ]
     },
     "execution_count": 38,
     "metadata": {},
     "output_type": "execute_result"
    }
   ],
   "source": [
    "torch.max(d,dim=0)"
   ]
  },
  {
   "cell_type": "code",
   "execution_count": 39,
   "metadata": {},
   "outputs": [
    {
     "data": {
      "text/plain": [
       "(tensor([ 0.9295,  0.9711, -0.1552,  0.7470]), tensor([3, 1, 0, 4]))"
      ]
     },
     "execution_count": 39,
     "metadata": {},
     "output_type": "execute_result"
    }
   ],
   "source": [
    "torch.max(d,dim=1)"
   ]
  },
  {
   "cell_type": "code",
   "execution_count": 40,
   "metadata": {},
   "outputs": [
    {
     "data": {
      "text/plain": [
       "(tensor([[-1.6406, -1.2777, -0.5432, -0.2632,  0.9295],\n",
       "         [-0.7428, -0.3635,  0.3551,  0.8562,  0.9711],\n",
       "         [-1.2282, -0.8039, -0.4530, -0.2217, -0.1552],\n",
       "         [-2.0901, -1.8761, -1.2658, -0.6066,  0.7470]]),\n",
       " tensor([[2, 4, 1, 0, 3],\n",
       "         [0, 4, 2, 3, 1],\n",
       "         [1, 2, 3, 4, 0],\n",
       "         [0, 2, 1, 3, 4]]))"
      ]
     },
     "execution_count": 40,
     "metadata": {},
     "output_type": "execute_result"
    }
   ],
   "source": [
    "# sorting a tensor\n",
    "torch.sort(d)"
   ]
  },
  {
   "cell_type": "code",
   "execution_count": 41,
   "metadata": {},
   "outputs": [
    {
     "data": {
      "text/plain": [
       "(tensor([[-2.0901, -1.2658, -1.8761, -0.6066, -1.2777],\n",
       "         [-0.7428, -1.2282, -1.6406, -0.4530, -0.3635],\n",
       "         [-0.2632, -0.5432, -0.8039,  0.8562, -0.2217],\n",
       "         [-0.1552,  0.9711,  0.3551,  0.9295,  0.7470]]),\n",
       " tensor([[3, 3, 3, 3, 0],\n",
       "         [1, 2, 0, 2, 1],\n",
       "         [0, 0, 2, 1, 2],\n",
       "         [2, 1, 1, 0, 3]]))"
      ]
     },
     "execution_count": 41,
     "metadata": {},
     "output_type": "execute_result"
    }
   ],
   "source": [
    "torch.sort(d,dim=0)"
   ]
  },
  {
   "cell_type": "code",
   "execution_count": 42,
   "metadata": {},
   "outputs": [
    {
     "data": {
      "text/plain": [
       "(tensor([[-0.1552,  0.9711,  0.3551,  0.9295,  0.7470],\n",
       "         [-0.2632, -0.5432, -0.8039,  0.8562, -0.2217],\n",
       "         [-0.7428, -1.2282, -1.6406, -0.4530, -0.3635],\n",
       "         [-2.0901, -1.2658, -1.8761, -0.6066, -1.2777]]),\n",
       " tensor([[2, 1, 1, 0, 3],\n",
       "         [0, 0, 2, 1, 2],\n",
       "         [1, 2, 0, 2, 1],\n",
       "         [3, 3, 3, 3, 0]]))"
      ]
     },
     "execution_count": 42,
     "metadata": {},
     "output_type": "execute_result"
    }
   ],
   "source": [
    "torch.sort(d,dim=0,descending=True)"
   ]
  },
  {
   "cell_type": "code",
   "execution_count": 43,
   "metadata": {},
   "outputs": [
    {
     "data": {
      "text/plain": [
       "(tensor([[ 0.9295, -0.2632, -0.5432, -1.2777, -1.6406],\n",
       "         [ 0.9711,  0.8562,  0.3551, -0.3635, -0.7428],\n",
       "         [-0.1552, -0.2217, -0.4530, -0.8039, -1.2282],\n",
       "         [ 0.7470, -0.6066, -1.2658, -1.8761, -2.0901]]),\n",
       " tensor([[3, 0, 1, 4, 2],\n",
       "         [1, 3, 2, 4, 0],\n",
       "         [0, 4, 3, 2, 1],\n",
       "         [4, 3, 1, 2, 0]]))"
      ]
     },
     "execution_count": 43,
     "metadata": {},
     "output_type": "execute_result"
    }
   ],
   "source": [
    "torch.sort(d,dim=1,descending=True)"
   ]
  },
  {
   "cell_type": "code",
   "execution_count": 45,
   "metadata": {
    "collapsed": true
   },
   "outputs": [],
   "source": [
    "from torch.autograd import Variable"
   ]
  },
  {
   "cell_type": "code",
   "execution_count": 47,
   "metadata": {},
   "outputs": [
    {
     "data": {
      "text/plain": [
       "tensor([[1., 1.],\n",
       "        [1., 1.]], requires_grad=True)"
      ]
     },
     "execution_count": 47,
     "metadata": {},
     "output_type": "execute_result"
    }
   ],
   "source": [
    "Variable(torch.ones(2,2),requires_grad=True)"
   ]
  },
  {
   "cell_type": "code",
   "execution_count": 53,
   "metadata": {
    "collapsed": true
   },
   "outputs": [],
   "source": [
    "a, b = 12,23\n",
    "x1 = Variable(torch.randn(a,b),\n",
    "            requires_grad=True)\n",
    "x2 = Variable(torch.randn(a,b),\n",
    "            requires_grad=True)\n",
    "x3 =Variable(torch.randn(a,b),\n",
    "            requires_grad=True)"
   ]
  },
  {
   "cell_type": "code",
   "execution_count": 66,
   "metadata": {},
   "outputs": [
    {
     "name": "stdout",
     "output_type": "stream",
     "text": [
      "tensor(3326.2632, grad_fn=<SumBackward0>)\n"
     ]
    }
   ],
   "source": [
    "c = x1 * x2\n",
    "d = a + x3\n",
    "e = torch.sum(d)\n",
    "\n",
    "e.backward()\n",
    "\n",
    "print(e)"
   ]
  },
  {
   "cell_type": "code",
   "execution_count": 67,
   "metadata": {},
   "outputs": [
    {
     "data": {
      "text/plain": [
       "tensor([[-1.2091,  0.2051,  0.2288, -0.8229, -0.8648,  2.0531, -1.0560,  1.2542,\n",
       "          0.9729, -0.0688,  0.1807,  1.5699,  0.2850,  1.1012,  0.3664,  1.4716,\n",
       "          0.8765,  1.2845, -0.1071,  0.2297,  0.1339, -1.1711,  1.1470],\n",
       "        [-0.1652, -1.0936,  0.3494, -0.2557, -0.2436,  0.0500,  0.4949, -0.7298,\n",
       "         -0.9913, -1.0336, -0.5741, -0.4406,  0.2856,  0.1470,  0.7052,  1.2541,\n",
       "          0.8060,  0.4195, -0.9084,  1.8620,  1.0554, -0.3494,  0.6326],\n",
       "        [ 1.3003, -1.3980,  0.3112, -0.5524, -0.9377,  0.1630,  0.1073,  0.4173,\n",
       "         -0.0353, -0.7207,  0.5751,  0.2713,  1.9872,  1.8043, -0.3344,  0.9409,\n",
       "          0.1268, -0.0614,  1.4043,  0.7124,  0.8636,  0.2804, -0.2781],\n",
       "        [ 0.0365, -1.3312, -0.1628, -0.1240,  2.1133, -0.3764,  0.9087, -1.2966,\n",
       "         -1.0998, -0.6562,  1.2251,  1.3851,  0.2078, -0.0117, -0.8635, -0.1551,\n",
       "         -0.8430,  0.0326, -0.9246, -0.6943, -1.9157,  0.6198,  0.3940],\n",
       "        [-1.5084, -0.1153,  0.7353, -1.2601, -1.6514,  1.1107, -2.1565,  0.3175,\n",
       "         -0.4277, -0.2646, -0.7750,  1.0045,  1.3110, -0.9359,  0.6987, -0.9571,\n",
       "         -1.0024, -1.9735,  0.5000,  0.0797,  1.4649, -0.6487,  1.0309],\n",
       "        [ 0.1096,  0.9718,  1.2106, -1.9709,  0.7432,  2.4122, -0.7361, -1.0007,\n",
       "         -0.2363,  0.8176, -0.1504, -1.0857, -1.7375, -1.1992, -1.1957, -1.4457,\n",
       "         -1.0855,  1.4712, -0.8017, -1.0633, -1.6368,  0.3264, -0.7477],\n",
       "        [-1.4196,  0.6944,  1.0231, -1.7762, -1.4278,  0.4302, -0.1964, -0.8051,\n",
       "         -0.1109,  0.1802, -2.5825, -0.5508,  1.0202,  0.7323,  0.1552,  2.1504,\n",
       "          1.4538, -0.7442,  0.2518, -0.3580, -0.5311,  1.0977,  0.4569],\n",
       "        [ 0.4005, -0.7492, -0.2139, -0.0289,  0.4981,  0.8184,  1.7441,  0.9594,\n",
       "         -0.3676, -0.6162, -0.6609, -1.3783, -1.0913, -1.4546,  0.5279,  0.0529,\n",
       "         -1.2935, -0.9123,  0.2684,  1.6322,  0.2476,  0.2091, -1.1460],\n",
       "        [ 0.0895, -1.6131, -0.3991,  0.3701,  1.0176,  0.4846,  2.2401,  0.0763,\n",
       "         -0.0333, -1.0981, -1.2273,  0.6064,  0.0683, -1.0938, -0.1985, -0.0802,\n",
       "          2.1808, -0.9993, -0.1172,  0.3497,  0.1964, -0.8829, -0.1165],\n",
       "        [ 2.0649,  0.0329,  0.3666,  1.5991,  0.4351, -1.6300,  0.3736, -1.3700,\n",
       "         -1.5450, -1.2312, -0.3226, -0.5741, -0.5965, -0.3230, -0.3492,  0.9834,\n",
       "         -1.2950,  0.3193,  0.5931, -0.2343,  0.3707, -0.8765,  0.7550],\n",
       "        [-1.0909,  1.0455, -1.4450, -1.4358,  0.5864, -1.2944, -0.0648,  1.5094,\n",
       "          0.0589, -0.3924, -1.5614, -2.0230, -0.0710,  0.8335,  2.0976, -0.2673,\n",
       "          0.2005, -0.1734,  1.0505, -0.8273,  1.0495, -1.9211,  0.2375],\n",
       "        [ 1.7112,  1.0648,  0.5728,  1.2932,  0.3496,  1.4606, -1.5655, -0.6058,\n",
       "          0.8602,  1.2618, -1.4207,  0.3151, -0.2634,  0.3364,  0.4394, -2.2615,\n",
       "         -1.0728,  1.8201, -0.4990,  0.9810, -2.3798,  0.5059,  0.2530]])"
      ]
     },
     "execution_count": 67,
     "metadata": {},
     "output_type": "execute_result"
    }
   ],
   "source": [
    "x1.data"
   ]
  },
  {
   "cell_type": "code",
   "execution_count": 69,
   "metadata": {},
   "outputs": [
    {
     "data": {
      "text/plain": [
       "tensor([[-0.7695,  0.5612, -0.8769, -0.2339, -0.9434,  1.4024, -1.2617, -1.2930,\n",
       "         -0.7356, -2.5015,  0.0557,  0.3000,  0.1149, -0.5691, -1.0529, -2.0725,\n",
       "         -0.6946,  0.0269,  0.0063,  0.0193, -0.0594, -1.0575,  0.7839],\n",
       "        [-2.1574,  1.0613, -0.7151,  1.0884,  0.8948, -2.8039, -0.3344, -1.1181,\n",
       "         -0.9087,  1.0153, -1.3401,  0.8771,  0.3495,  1.6051,  0.8603,  0.0236,\n",
       "         -2.4061,  0.6586,  1.4788, -0.6594,  0.5899, -1.5961, -0.1953],\n",
       "        [-0.3770,  0.5746, -0.3294, -0.7120,  0.4099,  0.9356, -0.2261, -0.6855,\n",
       "         -1.2324,  0.5782, -0.9081,  1.8166,  0.3664, -0.6500, -0.2839,  0.5119,\n",
       "         -0.1081,  0.7451,  1.0281,  0.5403,  0.1146, -0.4128, -0.8639],\n",
       "        [ 0.6057, -0.7682,  2.1478,  0.3082,  2.0604, -0.7334, -0.0956, -1.3209,\n",
       "         -0.2724, -0.1919,  2.0461,  0.4408,  0.0661, -0.5592, -0.8821, -0.5827,\n",
       "         -1.6342,  0.2203,  0.6228, -1.1802, -0.2303, -1.1923, -0.7451],\n",
       "        [-0.2909, -0.7119, -1.4216,  1.0757, -0.6441, -2.3163,  1.3993,  0.3133,\n",
       "          1.4752, -0.2482,  0.5671, -0.5212, -1.2704,  0.0547,  0.0827, -0.8461,\n",
       "         -0.9490,  1.0537,  0.5680,  0.1552, -0.9062, -0.1182, -0.3180],\n",
       "        [-0.2063,  0.3281, -0.2773, -1.3501,  2.0815, -0.1488, -1.3505, -0.3104,\n",
       "          0.3645,  0.7221, -0.4111,  0.5494,  0.6637,  2.1990, -0.5518,  1.6212,\n",
       "         -1.3278, -2.2822,  0.1412, -1.3277, -0.5052,  1.9143,  0.0355],\n",
       "        [-0.3661,  0.1350,  0.3984, -0.8361,  0.4993, -0.0492,  0.4780,  0.1322,\n",
       "          0.2838, -0.3731,  0.0133, -0.5125, -0.6853,  0.1164,  0.5714, -0.6769,\n",
       "         -2.9751,  0.5448,  0.3938, -1.3854, -0.9581,  1.4123, -1.1240],\n",
       "        [-1.3312, -0.2446, -1.2035,  1.3005,  1.6167, -0.4134,  2.0272,  0.0006,\n",
       "          0.2659, -0.7227, -0.3171,  0.4578,  0.6607,  0.2788, -0.1967, -0.3522,\n",
       "         -1.8689,  0.6674,  1.4115,  1.2675, -0.3932, -1.2199,  0.1929],\n",
       "        [ 0.3333,  1.9078, -0.4470,  1.0139,  0.2883, -0.1472,  1.6546,  0.5126,\n",
       "         -0.1664,  0.2926,  1.3934, -0.3503,  1.4464,  0.0802, -0.0167,  1.3697,\n",
       "         -0.6020,  0.0807, -1.7260, -0.3238, -0.2628,  1.7173,  1.2559],\n",
       "        [-0.4841, -0.0599,  0.5463,  1.8347,  1.1390, -0.4914,  0.0532, -1.8957,\n",
       "          1.5129,  0.0543,  0.3842,  0.6039, -1.0719, -0.2275, -0.6764, -0.6462,\n",
       "         -0.1970, -1.3666, -1.1371, -1.1465,  0.5286, -0.0459, -1.8615],\n",
       "        [ 1.0027,  0.2835, -0.5501,  0.7995,  1.3221,  0.5001, -0.0291,  0.5394,\n",
       "         -0.9890,  1.2152,  1.2553, -0.1434,  0.1889, -1.3892, -0.0865, -0.4918,\n",
       "         -0.4927, -2.7114,  0.8818,  0.1160,  0.1862,  1.0218,  1.8463],\n",
       "        [-1.0823, -1.2275, -0.3760,  0.7413,  0.6010,  1.0820,  0.2764,  0.4888,\n",
       "          1.0157,  1.1075,  0.3373,  1.0486, -0.7065,  1.5905,  0.9390, -0.8403,\n",
       "         -0.1440, -0.2116,  2.4626, -0.6849,  1.3836, -0.0662,  2.2802]])"
      ]
     },
     "execution_count": 69,
     "metadata": {},
     "output_type": "execute_result"
    }
   ],
   "source": [
    "x2.data"
   ]
  },
  {
   "cell_type": "code",
   "execution_count": 75,
   "metadata": {},
   "outputs": [
    {
     "data": {
      "text/plain": [
       "tensor([[ 1.9146,  0.9768,  1.0811,  2.0252,  0.0436,  0.6227,  0.8342,  0.4682,\n",
       "         -0.3286, -1.0412,  0.2525, -3.0444, -0.0577, -1.5756,  0.8429,  0.4200,\n",
       "         -0.7470, -0.5565,  3.0590, -0.2083, -0.7636,  0.4813,  1.2078],\n",
       "        [ 0.2497,  0.3805, -1.1350,  0.0787,  1.3208, -2.4296,  0.4169,  0.1749,\n",
       "          0.9918, -0.5184,  0.6696, -1.9079, -0.2390,  1.1763,  0.3201,  0.0522,\n",
       "          0.8203,  0.8242,  0.3822, -0.0764, -1.0941,  0.4387,  0.9921],\n",
       "        [ 0.6686, -1.2147, -0.0678, -0.7077, -0.8408,  0.8591, -1.6349, -0.6366,\n",
       "         -0.9685, -0.4280,  0.4780,  0.7809, -0.9091, -0.2959,  0.5441,  0.4954,\n",
       "         -1.7984,  0.8681, -1.0738,  0.7593,  0.3193, -1.3947,  0.3694],\n",
       "        [ 1.4813,  0.0046,  0.4982, -0.6972,  0.5296,  0.7683, -0.2602, -0.5705,\n",
       "         -1.5676, -1.1381, -1.3629, -0.5769, -1.3806,  0.5012,  0.1224, -2.2065,\n",
       "          0.8173,  0.6701,  0.3091,  0.4854,  0.7659,  1.2846,  0.7897],\n",
       "        [-0.7370,  1.3229, -0.4509,  1.9527, -0.7203,  0.8111, -0.2699, -2.0615,\n",
       "          0.4154, -1.3880, -0.2081,  0.2313, -1.2991, -1.2130, -0.3811, -1.1090,\n",
       "          0.8454,  0.6284, -0.3489, -0.2967, -0.2703, -0.8728, -0.5260],\n",
       "        [ 0.6462,  1.7665,  0.4678,  0.6449,  1.6388,  0.8563,  1.5963,  0.5251,\n",
       "         -0.4524, -1.0072,  0.6966,  0.2940,  0.1731, -0.0179,  0.2570, -0.0422,\n",
       "          0.7994, -0.6979, -0.3143,  0.5123,  0.2453, -0.1937, -1.7888],\n",
       "        [-0.3820,  1.8685, -1.7556, -1.0959, -0.8835, -0.6561,  1.3885, -1.1562,\n",
       "         -1.7383, -0.3661, -1.2988, -0.2584,  0.0313, -0.3064, -0.3030, -0.1989,\n",
       "          2.4842,  0.6622,  0.2176,  0.1321,  0.0175, -0.5228,  0.3531],\n",
       "        [ 0.8579,  0.1561, -1.5696, -0.5992,  0.0637,  2.6364, -0.0015, -0.6941,\n",
       "         -0.7567,  1.0305,  0.9934, -1.1484, -0.2748, -1.2578,  0.1161,  0.2546,\n",
       "          0.6093, -0.0656,  1.0676, -0.6974, -0.1860, -0.6496, -0.5428],\n",
       "        [ 2.0930,  1.1417, -0.7509,  1.4032,  3.4985, -0.5599, -0.3707, -0.7432,\n",
       "          0.4757, -0.1318, -1.0392, -2.1492,  0.7486,  1.9226, -0.9425,  0.9754,\n",
       "          0.8803, -1.4972, -0.2156,  1.2424,  0.9284, -0.6731, -1.4117],\n",
       "        [ 1.4945,  0.2384,  1.1570, -0.8089,  1.0580, -0.8072, -0.0844, -0.3503,\n",
       "          1.8087, -0.5108, -0.8987,  0.4110, -0.8877,  1.2661, -0.1877,  0.9916,\n",
       "          1.2712,  0.3572,  0.1017,  0.1105,  1.0362,  1.0656, -1.5942],\n",
       "        [-0.6937,  0.0679, -0.9008, -0.1237,  0.0947, -0.8592, -0.3514,  0.1462,\n",
       "          2.2163, -0.8563,  1.2994, -1.2342, -1.1643,  1.1945, -0.9438,  1.7151,\n",
       "         -0.4062,  0.4538,  1.3829, -1.1551, -0.4591, -0.2654, -0.3418],\n",
       "        [-0.0081,  1.1909,  0.6109,  1.0568, -0.1550, -0.7326,  0.9140, -0.8833,\n",
       "          0.8939,  1.1130,  0.5261, -1.0438,  0.9593,  0.0347, -0.4678, -1.4760,\n",
       "          1.0967,  1.8525,  0.1538, -0.8007, -0.2740,  2.4605, -0.1072]])"
      ]
     },
     "execution_count": 75,
     "metadata": {},
     "output_type": "execute_result"
    }
   ],
   "source": [
    "x3.data"
   ]
  },
  {
   "cell_type": "code",
   "execution_count": 76,
   "metadata": {},
   "outputs": [
    {
     "name": "stdout",
     "output_type": "stream",
     "text": [
      "predict (before training) 4 tensor(4.)\n"
     ]
    }
   ],
   "source": [
    "import torch\n",
    "from torch.autograd import Variable\n",
    "\n",
    "x_data = [11.0, 22.0, 33.0]\n",
    "y_data = [21.0, 14.0, 64.0]\n",
    "\n",
    "w = Variable(torch.Tensor([1.0]),  requires_grad=True)  # Any random value\n",
    "\n",
    "# Before training\n",
    "print(\"predict (before training)\",  4, forward(4).data[0])"
   ]
  },
  {
   "cell_type": "code",
   "execution_count": 77,
   "metadata": {
    "collapsed": true
   },
   "outputs": [],
   "source": [
    "# Using forward pass\n",
    "def forward(x):\n",
    "    return x * w"
   ]
  },
  {
   "cell_type": "code",
   "execution_count": 78,
   "metadata": {
    "collapsed": true
   },
   "outputs": [],
   "source": [
    "# define the Loss function\n",
    "def loss(x, y):\n",
    "    y_pred = forward(x)\n",
    "    return (y_pred - y) * (y_pred - y)"
   ]
  },
  {
   "cell_type": "code",
   "execution_count": 79,
   "metadata": {},
   "outputs": [
    {
     "name": "stdout",
     "output_type": "stream",
     "text": [
      "\tgrad:  11.0 21.0 tensor(-220.)\n",
      "\tgrad:  22.0 14.0 tensor(2481.6001)\n",
      "\tgrad:  33.0 64.0 tensor(-51303.6484)\n",
      "progress: 0 tensor(604238.8125)\n",
      "\tgrad:  11.0 21.0 tensor(118461.7578)\n",
      "\tgrad:  22.0 14.0 tensor(-671630.6875)\n",
      "\tgrad:  33.0 64.0 tensor(13114108.)\n",
      "progress: 1 tensor(39481139200.)\n",
      "\tgrad:  11.0 21.0 tensor(-30279010.)\n",
      "\tgrad:  22.0 14.0 tensor(171986000.)\n",
      "\tgrad:  33.0 64.0 tensor(-3358889472.)\n",
      "progress: 2 tensor(2590022582665216.)\n",
      "\tgrad:  11.0 21.0 tensor(7755301376.)\n",
      "\tgrad:  22.0 14.0 tensor(-44050112512.)\n",
      "\tgrad:  33.0 64.0 tensor(860298674176.)\n",
      "progress: 3 tensor(169906757784039325696.)\n",
      "\tgrad:  11.0 21.0 tensor(-1986333900800.)\n",
      "\tgrad:  22.0 14.0 tensor(11282376818688.)\n",
      "\tgrad:  33.0 64.0 tensor(-220344807849984.)\n",
      "progress: 4 tensor(11145967797036089329319936.)\n",
      "\tgrad:  11.0 21.0 tensor(508751660449792.)\n",
      "\tgrad:  22.0 14.0 tensor(-2889709562888192.)\n",
      "\tgrad:  33.0 64.0 tensor(56436029183229952.)\n",
      "progress: 5 tensor(731181229735636676902291243008.)\n",
      "\tgrad:  11.0 21.0 tensor(-130304505987203072.)\n",
      "\tgrad:  22.0 14.0 tensor(740129586448171008.)\n",
      "\tgrad:  33.0 64.0 tensor(-14454731813580439552.)\n",
      "progress: 6 tensor(47965853635691301104421115938209792.)\n",
      "\tgrad:  11.0 21.0 tensor(33374367042303426560.)\n",
      "\tgrad:  22.0 14.0 tensor(-189566395124581138432.)\n",
      "\tgrad:  33.0 64.0 tensor(3702231642950980337664.)\n",
      "progress: 7 tensor(inf)\n",
      "\tgrad:  11.0 21.0 tensor(-8548040947181920714752.)\n",
      "\tgrad:  22.0 14.0 tensor(48552870733517462437888.)\n",
      "\tgrad:  33.0 64.0 tensor(-948237585286470398115840.)\n",
      "progress: 8 tensor(inf)\n",
      "\tgrad:  11.0 21.0 tensor(2189375167048686422196224.)\n",
      "\tgrad:  22.0 14.0 tensor(-12435651156362409707307008.)\n",
      "\tgrad:  33.0 64.0 tensor(242868246054469617554817024.)\n",
      "progress: 9 tensor(inf)\n"
     ]
    }
   ],
   "source": [
    "# Run the Training loop\n",
    "for epoch in range(10):\n",
    "    for x_val, y_val in zip(x_data, y_data):\n",
    "        l = loss(x_val, y_val)\n",
    "        l.backward()\n",
    "        print(\"\\tgrad: \", x_val, y_val, w.grad.data[0])\n",
    "        w.data = w.data - 0.01 * w.grad.data\n",
    "\n",
    "        # Manually set the gradients to zero after updating weights\n",
    "        w.grad.data.zero_()\n",
    "\n",
    "    print(\"progress:\", epoch, l.data[0])"
   ]
  },
  {
   "cell_type": "code",
   "execution_count": 80,
   "metadata": {},
   "outputs": [
    {
     "name": "stdout",
     "output_type": "stream",
     "text": [
      "predict (after training) 4 tensor(-9268691075357861748932608.)\n"
     ]
    }
   ],
   "source": [
    "# After training\n",
    "print(\"predict (after training)\",  4, forward(4).data[0])"
   ]
  },
  {
   "cell_type": "code",
   "execution_count": 85,
   "metadata": {},
   "outputs": [
    {
     "name": "stdout",
     "output_type": "stream",
     "text": [
      "tensor([[-2.6830,  2.0509, -2.6185, -3.6709],\n",
      "        [-4.9271,  3.6834,  4.0502,  3.4515],\n",
      "        [ 3.4576,  4.5814,  0.0632, -4.6377],\n",
      "        [-3.1634,  2.9827, -3.9532, -0.6395]])\n"
     ]
    }
   ],
   "source": [
    "z = Variable(torch.Tensor(4, 4).uniform_(-5, 5))\n",
    "print(z)"
   ]
  },
  {
   "cell_type": "code",
   "execution_count": 86,
   "metadata": {},
   "outputs": [
    {
     "name": "stdout",
     "output_type": "stream",
     "text": [
      "Requires Gradient : False \n",
      "Volatile : False \n",
      "Gradient : None \n",
      "tensor([[-2.6830,  2.0509, -2.6185, -3.6709],\n",
      "        [-4.9271,  3.6834,  4.0502,  3.4515],\n",
      "        [ 3.4576,  4.5814,  0.0632, -4.6377],\n",
      "        [-3.1634,  2.9827, -3.9532, -0.6395]])\n"
     ]
    },
    {
     "name": "stderr",
     "output_type": "stream",
     "text": [
      "C:\\Users\\Mafoi\\Anaconda3\\lib\\site-packages\\ipykernel_launcher.py:2: UserWarning: volatile was removed (Variable.volatile is always False)\n",
      "  \n"
     ]
    }
   ],
   "source": [
    "print('Requires Gradient : %s ' % (z.requires_grad))\n",
    "print('Volatile : %s ' % (z.volatile))\n",
    "print('Gradient : %s ' % (z.grad))\n",
    "print(z.data)"
   ]
  },
  {
   "cell_type": "code",
   "execution_count": 88,
   "metadata": {},
   "outputs": [
    {
     "name": "stdout",
     "output_type": "stream",
     "text": [
      "torch.Size([4, 4])\n"
     ]
    }
   ],
   "source": [
    "x = Variable(torch.Tensor(4, 4).uniform_(-4, 5))\n",
    "y = Variable(torch.Tensor(4, 4).uniform_(-3, 2))\n",
    "# matrix multiplication\n",
    "z = torch.mm(x, y)\n",
    "print(z.size())"
   ]
  },
  {
   "cell_type": "code",
   "execution_count": null,
   "metadata": {
    "collapsed": true
   },
   "outputs": [],
   "source": []
  }
 ],
 "metadata": {
  "kernelspec": {
   "display_name": "Python 3",
   "language": "python",
   "name": "python3"
  },
  "language_info": {
   "codemirror_mode": {
    "name": "ipython",
    "version": 3
   },
   "file_extension": ".py",
   "mimetype": "text/x-python",
   "name": "python",
   "nbconvert_exporter": "python",
   "pygments_lexer": "ipython3",
   "version": "3.6.1"
  }
 },
 "nbformat": 4,
 "nbformat_minor": 2
}
